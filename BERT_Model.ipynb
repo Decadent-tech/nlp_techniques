{
  "cells": [
    {
      "cell_type": "code",
      "source": [
        "import warnings\n",
        "warnings.filterwarnings('ignore')"
      ],
      "metadata": {
        "id": "inlvAZyA5Cbs"
      },
      "execution_count": 3,
      "outputs": []
    },
    {
      "cell_type": "code",
      "execution_count": null,
      "metadata": {
        "colab": {
          "base_uri": "https://localhost:8080/"
        },
        "id": "_p-XsWAF5kZo",
        "outputId": "3f10ab72-10be-48b6-a4a5-96d276dd9f22"
      },
      "outputs": [
        {
          "name": "stdout",
          "output_type": "stream",
          "text": [
            "Requirement already satisfied: transformers in /usr/local/lib/python3.12/dist-packages (4.56.1)\n",
            "Requirement already satisfied: filelock in /usr/local/lib/python3.12/dist-packages (from transformers) (3.19.1)\n",
            "Requirement already satisfied: huggingface-hub<1.0,>=0.34.0 in /usr/local/lib/python3.12/dist-packages (from transformers) (0.35.0)\n",
            "Requirement already satisfied: numpy>=1.17 in /usr/local/lib/python3.12/dist-packages (from transformers) (2.0.2)\n",
            "Requirement already satisfied: packaging>=20.0 in /usr/local/lib/python3.12/dist-packages (from transformers) (25.0)\n",
            "Requirement already satisfied: pyyaml>=5.1 in /usr/local/lib/python3.12/dist-packages (from transformers) (6.0.2)\n",
            "Requirement already satisfied: regex!=2019.12.17 in /usr/local/lib/python3.12/dist-packages (from transformers) (2024.11.6)\n",
            "Requirement already satisfied: requests in /usr/local/lib/python3.12/dist-packages (from transformers) (2.32.4)\n",
            "Requirement already satisfied: tokenizers<=0.23.0,>=0.22.0 in /usr/local/lib/python3.12/dist-packages (from transformers) (0.22.0)\n",
            "Requirement already satisfied: safetensors>=0.4.3 in /usr/local/lib/python3.12/dist-packages (from transformers) (0.6.2)\n",
            "Requirement already satisfied: tqdm>=4.27 in /usr/local/lib/python3.12/dist-packages (from transformers) (4.67.1)\n",
            "Requirement already satisfied: fsspec>=2023.5.0 in /usr/local/lib/python3.12/dist-packages (from huggingface-hub<1.0,>=0.34.0->transformers) (2025.3.0)\n",
            "Requirement already satisfied: typing-extensions>=3.7.4.3 in /usr/local/lib/python3.12/dist-packages (from huggingface-hub<1.0,>=0.34.0->transformers) (4.15.0)\n",
            "Requirement already satisfied: hf-xet<2.0.0,>=1.1.3 in /usr/local/lib/python3.12/dist-packages (from huggingface-hub<1.0,>=0.34.0->transformers) (1.1.10)\n",
            "Requirement already satisfied: charset_normalizer<4,>=2 in /usr/local/lib/python3.12/dist-packages (from requests->transformers) (3.4.3)\n",
            "Requirement already satisfied: idna<4,>=2.5 in /usr/local/lib/python3.12/dist-packages (from requests->transformers) (3.10)\n",
            "Requirement already satisfied: urllib3<3,>=1.21.1 in /usr/local/lib/python3.12/dist-packages (from requests->transformers) (2.5.0)\n",
            "Requirement already satisfied: certifi>=2017.4.17 in /usr/local/lib/python3.12/dist-packages (from requests->transformers) (2025.8.3)\n"
          ]
        }
      ],
      "source": [
        "pip install transformers"
      ]
    },
    {
      "cell_type": "code",
      "execution_count": 5,
      "metadata": {
        "colab": {
          "base_uri": "https://localhost:8080/"
        },
        "id": "oq04mB8_4HLU",
        "outputId": "e925187a-1c27-4df7-eead-d491c5fc91f7"
      },
      "outputs": [
        {
          "output_type": "stream",
          "name": "stdout",
          "text": [
            "Token IDs: [101, 24705, 1204, 17095, 1942, 1110, 170, 1846, 2235, 1872, 1118, 3353, 1592, 2240, 117, 1359, 1113, 1103, 15175, 1942, 113, 9066, 15306, 11689, 118, 3972, 13809, 23763, 114, 4220, 119, 102]\n",
            "[1, 0, 0, 0, 0, 0, 0, 0, 0, 0, 0, 0, 0, 0, 0, 0, 0, 0, 0, 0, 0, 0, 0, 0, 0, 0, 0, 0, 0, 0, 0, 0, 0, 1]\n",
            "Tokens: ['[CLS]', 'Cha', '##t', '##GP', '##T', 'is', 'a', 'language', 'model', 'developed', 'by', 'Open', '##A', '##I', ',', 'based', 'on', 'the', 'GP', '##T', '(', 'Gene', '##rative', 'Pre', '-', 'trained', 'Trans', '##former', ')', 'architecture', '.', '[SEP]']\n"
          ]
        }
      ],
      "source": [
        "from transformers import BertTokenizer\n",
        "\n",
        "tokenizer = BertTokenizer.from_pretrained(\"bert-base-cased\")\n",
        "text = 'ChatGPT is a language model developed by OpenAI, based on the GPT (Generative Pre-trained Transformer) architecture. '\n",
        "\n",
        "# Tokenize and encode the text\n",
        "encoding = tokenizer.encode(text)\n",
        "print(\"Token IDs:\", encoding)\n",
        "# masking the tokens\n",
        "print(tokenizer.get_special_tokens_mask(encoding))\n",
        "\n",
        "# Convert token IDs back to tokens\n",
        "tokens = tokenizer.convert_ids_to_tokens(encoding)\n",
        "print(\"Tokens:\", tokens)\n",
        "\n",
        "#"
      ]
    },
    {
      "cell_type": "code",
      "metadata": {
        "colab": {
          "base_uri": "https://localhost:8080/"
        },
        "id": "ea9d7e44",
        "outputId": "51e480a9-d8ff-4cf0-b86f-8069c3dd351a"
      },
      "source": [
        "from transformers import BertForSequenceClassification\n",
        "import torch # Import torch\n",
        "\n",
        "# Load a pre-trained BERT model for sequence classification\n",
        "model = BertForSequenceClassification.from_pretrained(\"bert-base-cased\")\n",
        "\n",
        "# Use the encoded text as input to the model\n",
        "input_ids = encoding\n",
        "input_ids = [input_ids] # Add batch dimension\n",
        "\n",
        "# Get the model's output (logits)\n",
        "outputs = model(input_ids=torch.tensor(input_ids))\n",
        "print(\"Model output (logits):\", outputs.logits)"
      ],
      "execution_count": 7,
      "outputs": [
        {
          "output_type": "stream",
          "name": "stderr",
          "text": [
            "Some weights of BertForSequenceClassification were not initialized from the model checkpoint at bert-base-cased and are newly initialized: ['classifier.bias', 'classifier.weight']\n",
            "You should probably TRAIN this model on a down-stream task to be able to use it for predictions and inference.\n"
          ]
        },
        {
          "output_type": "stream",
          "name": "stdout",
          "text": [
            "Model output (logits): tensor([[-0.0672, -0.2236]], grad_fn=<AddmmBackward0>)\n"
          ]
        }
      ]
    },
    {
      "cell_type": "code",
      "metadata": {
        "colab": {
          "base_uri": "https://localhost:8080/"
        },
        "id": "a9d985a8",
        "outputId": "3a471dd7-80a5-48e4-89c4-68a69b3980cd"
      },
      "source": [
        "from transformers import BertForQuestionAnswering\n",
        "import torch\n",
        "\n",
        "# !pip install accelerate -q\n",
        "model_qa = BertForQuestionAnswering.from_pretrained(\"bert-large-uncased-whole-word-masking-finetuned-squad\")\n",
        "\n",
        "question = \"Who developed ChatGPT?\"\n",
        "\n",
        "encoding_qa = tokenizer(question, text, return_tensors='pt')\n",
        "\n",
        "# Get the model's output (start and end logits for the answer span)\n",
        "outputs_qa = model_qa(**encoding_qa)\n",
        "\n",
        "# The output logits indicate the start and end positions of the answer in the input sequence\n",
        "answer_start_scores = outputs_qa.start_logits\n",
        "answer_end_scores = outputs_qa.end_logits\n",
        "\n",
        "# Find the tokens with the highest start and end scores\n",
        "answer_start = torch.argmax(answer_start_scores)\n",
        "answer_end = torch.argmax(answer_end_scores) + 1 # Add 1 to include the end token\n",
        "\n",
        "# Convert the input IDs back to tokens to extract the answer span\n",
        "tokens_qa = tokenizer.convert_ids_to_tokens(encoding_qa['input_ids'][0])\n",
        "\n",
        "# Extract the answer span\n",
        "answer_tokens = tokens_qa[answer_start:answer_end]\n",
        "\n",
        "# Join the tokens to get the answer string, handling potential word piece tokens (e.g., ##)\n",
        "answer = tokenizer.convert_tokens_to_string(answer_tokens)\n",
        "\n",
        "print(\"Question:\", question)\n",
        "print(\"Answer:\", answer)"
      ],
      "execution_count": 10,
      "outputs": [
        {
          "output_type": "stream",
          "name": "stderr",
          "text": [
            "Some weights of the model checkpoint at bert-large-uncased-whole-word-masking-finetuned-squad were not used when initializing BertForQuestionAnswering: ['bert.pooler.dense.bias', 'bert.pooler.dense.weight']\n",
            "- This IS expected if you are initializing BertForQuestionAnswering from the checkpoint of a model trained on another task or with another architecture (e.g. initializing a BertForSequenceClassification model from a BertForPreTraining model).\n",
            "- This IS NOT expected if you are initializing BertForQuestionAnswering from the checkpoint of a model that you expect to be exactly identical (initializing a BertForSequenceClassification model from a BertForSequenceClassification model).\n"
          ]
        },
        {
          "output_type": "stream",
          "name": "stdout",
          "text": [
            "Question: Who developed ChatGPT?\n",
            "Answer: a\n"
          ]
        }
      ]
    }
  ],
  "metadata": {
    "colab": {
      "provenance": []
    },
    "kernelspec": {
      "display_name": "Python 3",
      "name": "python3"
    },
    "language_info": {
      "name": "python"
    }
  },
  "nbformat": 4,
  "nbformat_minor": 0
}